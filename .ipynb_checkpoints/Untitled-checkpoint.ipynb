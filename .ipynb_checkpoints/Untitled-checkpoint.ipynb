{
 "cells": [
  {
   "cell_type": "markdown",
   "id": "7a9eb850-596a-4ab9-85e0-bd549a4a97d5",
   "metadata": {},
   "source": [
    "## Overview"
   ]
  },
  {
   "cell_type": "markdown",
   "id": "9b9ce298-c82a-4e3c-bedf-383b820b7f35",
   "metadata": {},
   "source": [
    "\n",
    "The goal of this Proof of Concept (PoC) project is to create a tool that scrapes product prices from multiple retail websites and compares them to help users find the best deals. This tool can be extended to monitor price changes over time, track discounts, and provide alerts for price drops."
   ]
  },
  {
   "cell_type": "markdown",
   "id": "b1c48f6c-e859-4714-8fba-751bf5d3935a",
   "metadata": {},
   "source": [
    "### Key Features:"
   ]
  },
  {
   "cell_type": "markdown",
   "id": "a0baf8f9-3f1b-4d89-aa81-b0f67dd39cf5",
   "metadata": {},
   "source": [
    "\n",
    "- Scrape Product Prices: Extract product names, prices, and availability from multiple retail websites.\n",
    "\n",
    "- Compare Prices: Display a comparison of prices for the same product across different retailers.\n",
    "\n",
    "- Store Data: Save the scraped data to a CSV file or database for future analysis.\n",
    "\n",
    "- Price Drop Alerts: (Optional) Send notifications (e.g., email) when a product's price drops below a specified threshold."
   ]
  },
  {
   "cell_type": "code",
   "execution_count": 8,
   "id": "c0a30206-f5b3-4cb5-a20f-1aa8e7d2da8f",
   "metadata": {},
   "outputs": [
    {
     "name": "stdout",
     "output_type": "stream",
     "text": [
      "Requirement already satisfied: requests in c:\\users\\rejin\\anaconda3\\lib\\site-packages (2.32.3)\n",
      "Requirement already satisfied: beautifulsoup4 in c:\\users\\rejin\\anaconda3\\lib\\site-packages (4.12.3)\n",
      "Requirement already satisfied: pandas in c:\\users\\rejin\\anaconda3\\lib\\site-packages (2.2.3)\n",
      "Requirement already satisfied: charset-normalizer<4,>=2 in c:\\users\\rejin\\anaconda3\\lib\\site-packages (from requests) (3.3.2)\n",
      "Requirement already satisfied: idna<4,>=2.5 in c:\\users\\rejin\\anaconda3\\lib\\site-packages (from requests) (3.7)\n",
      "Requirement already satisfied: urllib3<3,>=1.21.1 in c:\\users\\rejin\\anaconda3\\lib\\site-packages (from requests) (2.2.3)\n",
      "Requirement already satisfied: certifi>=2017.4.17 in c:\\users\\rejin\\anaconda3\\lib\\site-packages (from requests) (2025.1.31)\n",
      "Requirement already satisfied: soupsieve>1.2 in c:\\users\\rejin\\anaconda3\\lib\\site-packages (from beautifulsoup4) (2.5)\n",
      "Requirement already satisfied: numpy>=1.26.0 in c:\\users\\rejin\\anaconda3\\lib\\site-packages (from pandas) (1.26.4)\n",
      "Requirement already satisfied: python-dateutil>=2.8.2 in c:\\users\\rejin\\anaconda3\\lib\\site-packages (from pandas) (2.9.0.post0)\n",
      "Requirement already satisfied: pytz>=2020.1 in c:\\users\\rejin\\anaconda3\\lib\\site-packages (from pandas) (2024.1)\n",
      "Requirement already satisfied: tzdata>=2022.7 in c:\\users\\rejin\\anaconda3\\lib\\site-packages (from pandas) (2023.3)\n",
      "Requirement already satisfied: six>=1.5 in c:\\users\\rejin\\anaconda3\\lib\\site-packages (from python-dateutil>=2.8.2->pandas) (1.16.0)\n"
     ]
    }
   ],
   "source": [
    "#!pip install requests beautifulsoup4 pandas"
   ]
  },
  {
   "cell_type": "code",
   "execution_count": 182,
   "id": "b0cf5be1-9205-4a2c-9d8a-0abc7419642a",
   "metadata": {},
   "outputs": [],
   "source": [
    "#importing Libraries\n",
    "import numpy as np\n",
    "import pandas as pd\n",
    "import requests\n",
    "import re\n",
    "from bs4 import BeautifulSoup"
   ]
  },
  {
   "cell_type": "code",
   "execution_count": 198,
   "id": "449d935d-6662-45b5-8add-881a57f983e6",
   "metadata": {},
   "outputs": [
    {
     "data": {
      "text/plain": [
       "True"
      ]
     },
     "execution_count": 198,
     "metadata": {},
     "output_type": "execute_result"
    }
   ],
   "source": [
    "webpage = \"https://www.holidify.com/country/india/places-to-visit.html\"\n",
    "\n",
    "response = requests.get(url=webpage)\n",
    "response.ok"
   ]
  },
  {
   "cell_type": "code",
   "execution_count": 200,
   "id": "70d6bad4-d962-41d4-bdc7-5758c9109851",
   "metadata": {},
   "outputs": [],
   "source": [
    "inspect_data = BeautifulSoup(response.text,'html.parser')"
   ]
  },
  {
   "cell_type": "code",
   "execution_count": 202,
   "id": "bb6ebbd9-6278-412a-bb4c-162fee377784",
   "metadata": {},
   "outputs": [
    {
     "data": {
      "text/plain": [
       "42"
      ]
     },
     "execution_count": 202,
     "metadata": {},
     "output_type": "execute_result"
    }
   ],
   "source": [
    "containers = inspect_data.findAll(\"div\",{\"class\":\"col-12 col-md-6 pr-md-3\"})\n",
    "len(containers)"
   ]
  },
  {
   "cell_type": "code",
   "execution_count": 204,
   "id": "f12a2d68-3aa8-4f53-8a06-2ce1c72de1c8",
   "metadata": {},
   "outputs": [],
   "source": [
    "data = {}"
   ]
  },
  {
   "cell_type": "code",
   "execution_count": 208,
   "id": "3b48687c-3f30-4841-8c13-755163be2fff",
   "metadata": {},
   "outputs": [
    {
     "data": {
      "text/plain": [
       "<div class=\"col-12 col-md-6 pr-md-3\">\n",
       "<div class=\"card content-card\" data-itemid=\"GULMARG\">\n",
       "<a data-href=\"/places/gulmarg/\" data-position=\"1\" href=\"/places/gulmarg/\">\n",
       "<h3 class=\"card-heading\"> 1. Gulmarg </h3>\n",
       "<div class=\"position-relative\">\n",
       "<div class=\"collection-scrollable\" data-hotel-position=\"1\">\n",
       "<img alt=\"\" class=\"card-img-top lazy\" data-original=\"https://www.holidify.com/images/bgImages/GULMARG.jpg\" src=\"/res/images/patt.png\"/>\n",
       "<div class=\"lazyBG card-img-top\" data-original=\"https://www.holidify.com/images/compressed/dest_wiki_5433.jpg\" style=\"background-image:url('https://holidify.com/images/patt.png');\">\n",
       "</div>\n",
       "<div class=\"lazyBG card-img-top\" data-original=\"https://www.holidify.com/images/cmsuploads/compressed/IMG_3768_20190710152743.JPG\" style=\"background-image:url('https://holidify.com/images/patt.png');\">\n",
       "</div>\n",
       "<div class=\"lazyBG card-img-top\" data-original=\"https://www.holidify.com/images/cmsuploads/compressed/2771936432_d603c3fbd9_b_20190710152801.jpg\" style=\"background-image:url('https://holidify.com/images/patt.png');\">\n",
       "</div>\n",
       "<div class=\"lazyBG card-img-top\" data-original=\"https://www.holidify.com/images/compressed/266.jpg\" style=\"background-image:url('https://holidify.com/images/patt.png');\">\n",
       "</div>\n",
       "<div class=\"lazyBG card-img-top\" data-original=\"https://www.holidify.com/images/cmsuploads/compressed/D3A_9955_20190710152734.jpg\" style=\"background-image:url('https://holidify.com/images/patt.png');\">\n",
       "</div>\n",
       "</div>\n",
       "<span class=\"rating-badge\" style=\"background-color:#247c2a;\">\n",
       "<b>4.4</b>\n",
       "<span class=\"light\"> /5</span>\n",
       "</span>\n",
       "</div>\n",
       "</a>\n",
       "<div class=\"card-body\">\n",
       "<p class=\"objective\">\n",
       "\t\t\t\t\n",
       "\t\t      \t\t1 out of 100 <br/> Places to visit in India\n",
       "\t\t\t\t\n",
       "\t\t\t\t\n",
       "\t\t      \n",
       "\t\t        <span class=\"divider\"> </span>\n",
       "\t\t        29 <br/> Tourist attractions\n",
       "\t\t      \n",
       "\t\t    </p>\n",
       "<p class=\"mb-2\"> <b>Located in : <a href=\"/state/jammu-and-kashmir/\"> Jammu and Kashmir </a></b></p>\n",
       "<p class=\"mb-3\"> <b> Known For : </b>\n",
       "<span class=\"clickable align-middle\" onclick=\";openLink('https://www.holidify.com/places/gulmarg/gulmarg-gondola-sightseeing-1901.html')\"> <b> Gulmarg Gondola </b> </span>\n",
       "<span class=\"clickable\" onclick='openLink(\"https://www.holidify.com/places/gulmarg/gulmarg-gondola-sightseeing-1901.html\")'> </span>\n",
       "<span class=\"divider\"></span>\n",
       "<span class=\"clickable align-middle\" onclick=\";openLink('https://www.holidify.com/places/gulmarg/alpather-lake-sightseeing-4983.html')\"> <b> Alpather Lake  </b> </span>\n",
       "<span class=\"divider\"></span>\n",
       "<span class=\"clickable align-middle\" onclick=\";openLink('https://www.holidify.com/places/gulmarg/apharwat-peak-sightseeing-120958.html')\"> <b> Apharwat Peak  </b> </span>\n",
       "</p>\n",
       "<p class=\"card-text\"> Situated at an altitude of 2730 m above sea level, Gulmarg is a popular skiing destination located in Pir Panjal Range of Union territory of Jammu and Kashmir. Surrounded by snow-covered lofty Himalayas, meadows of flowers, deep ravines, evergreen forested valleys, Gulmarg also has the world's secon... </p>\n",
       "<p class=\"mb-3\"><b>Best Time: </b> October to June </p>\n",
       "</div>\n",
       "<div class=\"content-card-footer\" data-href=\"/places/gulmarg/\" data-position=\"1\">\n",
       "<a class=\"btn btn-blue\" href=\"/places/gulmarg/packages.html\">\n",
       "\t\t      View Packages\n",
       "\t\t    </a>\n",
       "<a class=\"btn btn-read-more\" onclick='openLink(\"/places/gulmarg/\")'> Read More </a>\n",
       "</div>\n",
       "</div>\n",
       "</div>"
      ]
     },
     "execution_count": 208,
     "metadata": {},
     "output_type": "execute_result"
    }
   ],
   "source": [
    "containers[0]"
   ]
  },
  {
   "cell_type": "code",
   "execution_count": 290,
   "id": "50097075-a1d2-47d0-93ae-2c502bfe3ba4",
   "metadata": {},
   "outputs": [
    {
     "name": "stdout",
     "output_type": "stream",
     "text": [
      " Known For : \n"
     ]
    }
   ],
   "source": [
    "for container in containers:\n",
    "    \n",
    "    pname = container.find(\"h3\", {\"class\":\"card-heading\"} )\n",
    "    data['p_name'] = pname.get_text().split('.')[1].split('-')[0].strip()\n",
    "\n",
    "    rating = container.find(\"span\",{\"class\":\"rating-badge\"})\n",
    "    if rating:\n",
    "        rating_val = rating.find('b').get_text().strip()\n",
    "        rating_max = rating.find('span',{\"class\":\"light\"}).get_text().strip()\n",
    "        rating = rating_val+rating_max\n",
    "    else: rating = 0\n",
    "    data['p_rating'] = rating\n",
    "    \n",
    "    objective = container.find(\"p\", {\"class\":{\"objective\"}}).get_text().strip()\n",
    "    data['rank'] = objective.split('Places to visit in India')[0]\n",
    "    data['tourist_attractions'] = objective.split('Places to visit in India')[1].strip().split()[0]\n",
    "\n",
    "    mb = container.find(\"p\", {\"class\":{\"mb-2\"}})\n",
    "    data['location'] = mb.find('a').get_text().strip()\n",
    "    \n",
    "    mb3 = container.findAll(\"span\",{\"class\": \"clickable align-middle\"})\n",
    "    known_for=[]\n",
    "    for span in mb3:\n",
    "        known_for.append(span.find('b').get_text().strip())\n",
    "    data['known_for'] = known_for\n",
    "\n",
    "    data['description'] = container.find('p',{'class':'card-text'}).get_text().strip()\n",
    "    # data['description'] \n",
    "    best_time = container.find('p',class_='mb-3').find('b').get_text()\n",
    "\n",
    "    print(best_time)\n",
    "    break"
   ]
  },
  {
   "cell_type": "code",
   "execution_count": null,
   "id": "f53128da-19af-4f51-9fe7-532f79c25f53",
   "metadata": {},
   "outputs": [],
   "source": []
  }
 ],
 "metadata": {
  "kernelspec": {
   "display_name": "Python [conda env:base] *",
   "language": "python",
   "name": "conda-base-py"
  },
  "language_info": {
   "codemirror_mode": {
    "name": "ipython",
    "version": 3
   },
   "file_extension": ".py",
   "mimetype": "text/x-python",
   "name": "python",
   "nbconvert_exporter": "python",
   "pygments_lexer": "ipython3",
   "version": "3.12.7"
  }
 },
 "nbformat": 4,
 "nbformat_minor": 5
}
