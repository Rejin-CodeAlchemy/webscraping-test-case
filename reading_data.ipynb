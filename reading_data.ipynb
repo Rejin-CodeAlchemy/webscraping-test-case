{
 "cells": [
  {
   "cell_type": "markdown",
   "id": "7a9eb850-596a-4ab9-85e0-bd549a4a97d5",
   "metadata": {},
   "source": [
    "## Overview"
   ]
  },
  {
   "cell_type": "markdown",
   "id": "9b9ce298-c82a-4e3c-bedf-383b820b7f35",
   "metadata": {},
   "source": [
    "\n",
    "The goal of this Proof of Concept (PoC) project is to create a tool that do web scraping of Website \"https://www.holidify.com/country/india/places-to-visit.html\"."
   ]
  },
  {
   "cell_type": "markdown",
   "id": "b1c48f6c-e859-4714-8fba-751bf5d3935a",
   "metadata": {},
   "source": [
    "### Key Features:"
   ]
  },
  {
   "cell_type": "markdown",
   "id": "a0baf8f9-3f1b-4d89-aa81-b0f67dd39cf5",
   "metadata": {},
   "source": [
    "\n",
    "- Scrape tourist places info:\n",
    "\n",
    "  Extract place names, State, description, Rating out of 5.0, Ranking out of 100, number of tourist attractions and best time to visit.\n",
    "\n",
    "- Store Data: Save the scraped data to a CSV file or database for future analysis."
   ]
  },
  {
   "cell_type": "code",
   "execution_count": 5,
   "id": "c0a30206-f5b3-4cb5-a20f-1aa8e7d2da8f",
   "metadata": {},
   "outputs": [],
   "source": [
    "#!pip install requests beautifulsoup4 pandas"
   ]
  },
  {
   "cell_type": "code",
   "execution_count": 27,
   "id": "b0cf5be1-9205-4a2c-9d8a-0abc7419642a",
   "metadata": {},
   "outputs": [],
   "source": [
    "#importing Libraries\n",
    "import os\n",
    "import numpy as np\n",
    "import pandas as pd\n",
    "import requests\n",
    "import re\n",
    "from bs4 import BeautifulSoup"
   ]
  },
  {
   "cell_type": "code",
   "execution_count": 7,
   "id": "449d935d-6662-45b5-8add-881a57f983e6",
   "metadata": {},
   "outputs": [
    {
     "data": {
      "text/plain": [
       "True"
      ]
     },
     "execution_count": 7,
     "metadata": {},
     "output_type": "execute_result"
    }
   ],
   "source": [
    "webpage = \"https://www.holidify.com/country/india/places-to-visit.html\"\n",
    "\n",
    "response = requests.get(url=webpage)\n",
    "response.ok"
   ]
  },
  {
   "cell_type": "code",
   "execution_count": 8,
   "id": "70d6bad4-d962-41d4-bdc7-5758c9109851",
   "metadata": {},
   "outputs": [],
   "source": [
    "inspect_data = BeautifulSoup(response.text,'html.parser')"
   ]
  },
  {
   "cell_type": "code",
   "execution_count": 9,
   "id": "bb6ebbd9-6278-412a-bb4c-162fee377784",
   "metadata": {},
   "outputs": [
    {
     "data": {
      "text/plain": [
       "42"
      ]
     },
     "execution_count": 9,
     "metadata": {},
     "output_type": "execute_result"
    }
   ],
   "source": [
    "containers = inspect_data.findAll(\"div\",{\"class\":\"col-12 col-md-6 pr-md-3\"})\n",
    "len(containers)"
   ]
  },
  {
   "cell_type": "code",
   "execution_count": 10,
   "id": "f12a2d68-3aa8-4f53-8a06-2ce1c72de1c8",
   "metadata": {},
   "outputs": [],
   "source": [
    "\n",
    "data_list = []"
   ]
  },
  {
   "cell_type": "code",
   "execution_count": 11,
   "id": "3b48687c-3f30-4841-8c13-755163be2fff",
   "metadata": {},
   "outputs": [
    {
     "data": {
      "text/plain": [
       "<div class=\"col-12 col-md-6 pr-md-3\">\n",
       "<div class=\"card content-card\" data-itemid=\"GULMARG\">\n",
       "<a data-href=\"/places/gulmarg/\" data-position=\"1\" href=\"/places/gulmarg/\">\n",
       "<h3 class=\"card-heading\"> 1. Gulmarg </h3>\n",
       "<div class=\"position-relative\">\n",
       "<div class=\"collection-scrollable\" data-hotel-position=\"1\">\n",
       "<img alt=\"\" class=\"card-img-top lazy\" data-original=\"https://www.holidify.com/images/bgImages/GULMARG.jpg\" src=\"/res/images/patt.png\"/>\n",
       "<div class=\"lazyBG card-img-top\" data-original=\"https://www.holidify.com/images/compressed/dest_wiki_5433.jpg\" style=\"background-image:url('https://holidify.com/images/patt.png');\">\n",
       "</div>\n",
       "<div class=\"lazyBG card-img-top\" data-original=\"https://www.holidify.com/images/cmsuploads/compressed/IMG_3768_20190710152743.JPG\" style=\"background-image:url('https://holidify.com/images/patt.png');\">\n",
       "</div>\n",
       "<div class=\"lazyBG card-img-top\" data-original=\"https://www.holidify.com/images/cmsuploads/compressed/2771936432_d603c3fbd9_b_20190710152801.jpg\" style=\"background-image:url('https://holidify.com/images/patt.png');\">\n",
       "</div>\n",
       "<div class=\"lazyBG card-img-top\" data-original=\"https://www.holidify.com/images/compressed/266.jpg\" style=\"background-image:url('https://holidify.com/images/patt.png');\">\n",
       "</div>\n",
       "<div class=\"lazyBG card-img-top\" data-original=\"https://www.holidify.com/images/cmsuploads/compressed/D3A_9955_20190710152734.jpg\" style=\"background-image:url('https://holidify.com/images/patt.png');\">\n",
       "</div>\n",
       "</div>\n",
       "<span class=\"rating-badge\" style=\"background-color:#247c2a;\">\n",
       "<b>4.4</b>\n",
       "<span class=\"light\"> /5</span>\n",
       "</span>\n",
       "</div>\n",
       "</a>\n",
       "<div class=\"card-body\">\n",
       "<p class=\"objective\">\n",
       "\t\t\t\t\n",
       "\t\t      \t\t1 out of 100 <br/> Places to visit in India\n",
       "\t\t\t\t\n",
       "\t\t\t\t\n",
       "\t\t      \n",
       "\t\t        <span class=\"divider\"> </span>\n",
       "\t\t        29 <br/> Tourist attractions\n",
       "\t\t      \n",
       "\t\t    </p>\n",
       "<p class=\"mb-2\"> <b>Located in : <a href=\"/state/jammu-and-kashmir/\"> Jammu and Kashmir </a></b></p>\n",
       "<p class=\"mb-3\"> <b> Known For : </b>\n",
       "<span class=\"clickable align-middle\" onclick=\";openLink('https://www.holidify.com/places/gulmarg/gulmarg-gondola-sightseeing-1901.html')\"> <b> Gulmarg Gondola </b> </span>\n",
       "<span class=\"clickable\" onclick='openLink(\"https://www.holidify.com/places/gulmarg/gulmarg-gondola-sightseeing-1901.html\")'> </span>\n",
       "<span class=\"divider\"></span>\n",
       "<span class=\"clickable align-middle\" onclick=\";openLink('https://www.holidify.com/places/gulmarg/alpather-lake-sightseeing-4983.html')\"> <b> Alpather Lake  </b> </span>\n",
       "<span class=\"divider\"></span>\n",
       "<span class=\"clickable align-middle\" onclick=\";openLink('https://www.holidify.com/places/gulmarg/apharwat-peak-sightseeing-120958.html')\"> <b> Apharwat Peak  </b> </span>\n",
       "</p>\n",
       "<p class=\"card-text\"> Situated at an altitude of 2730 m above sea level, Gulmarg is a popular skiing destination located in Pir Panjal Range of Union territory of Jammu and Kashmir. Surrounded by snow-covered lofty Himalayas, meadows of flowers, deep ravines, evergreen forested valleys, Gulmarg also has the world's secon... </p>\n",
       "<p class=\"mb-3\"><b>Best Time: </b> October to June </p>\n",
       "</div>\n",
       "<div class=\"content-card-footer\" data-href=\"/places/gulmarg/\" data-position=\"1\">\n",
       "<a class=\"btn btn-blue\" href=\"/places/gulmarg/packages.html\">\n",
       "\t\t      View Packages\n",
       "\t\t    </a>\n",
       "<a class=\"btn btn-read-more\" onclick='openLink(\"/places/gulmarg/\")'> Read More </a>\n",
       "</div>\n",
       "</div>\n",
       "</div>"
      ]
     },
     "execution_count": 11,
     "metadata": {},
     "output_type": "execute_result"
    }
   ],
   "source": [
    "containers[0]"
   ]
  },
  {
   "cell_type": "code",
   "execution_count": 12,
   "id": "50097075-a1d2-47d0-93ae-2c502bfe3ba4",
   "metadata": {},
   "outputs": [],
   "source": [
    "for container in containers:\n",
    "    data = {}\n",
    "    pname = container.find(\"h3\", {\"class\":\"card-heading\"} )\n",
    "    data['p_name'] = pname.get_text().split('.')[1].split('-')[0].strip()\n",
    "\n",
    "    rating = container.find(\"span\",{\"class\":\"rating-badge\"})\n",
    "    if rating:\n",
    "        rating_val = rating.find('b').get_text().strip()\n",
    "        rating_max = rating.find('span',{\"class\":\"light\"}).get_text().strip()\n",
    "        rating = rating_val+rating_max\n",
    "    else: rating = 0\n",
    "    data['p_rating'] = rating\n",
    "    \n",
    "    objective = container.find(\"p\", {\"class\":{\"objective\"}}).get_text().strip()\n",
    "    data['rank'] = objective.split('Places to visit in India')[0]\n",
    "    if objective.split('Places to visit in India')[1]:\n",
    "        data['tourist_attractions'] = objective.split('Places to visit in India')[1].strip().split()[0]\n",
    "    else: data['tourist_attractions'] =''\n",
    "\n",
    "    mb = container.find(\"p\", {\"class\":{\"mb-2\"}})\n",
    "    if mb:\n",
    "        data['location'] = mb.find('a').get_text().strip()\n",
    "    else:data['location'] =''\n",
    "\n",
    "    data['description'] = container.find('p',{'class':'card-text'}).get_text().strip()\n",
    "\n",
    "    mb_3 = container.findAll('p',class_='mb-3')\n",
    "    for mb in mb_3:\n",
    "        if mb.find('b').get_text().strip()=='Known For :':\n",
    "            mb3 = mb.findAll(\"span\",{\"class\": \"clickable align-middle\"})\n",
    "            known_for=[]\n",
    "            for span in mb3:\n",
    "                known_for.append(span.find('b').get_text().strip())\n",
    "            data['known_for'] = known_for\n",
    "        elif \"Best Time:\" in mb.get_text():\n",
    "            data['best_time'] = mb.get_text().split(\"Best Time: \")[len(mb.get_text().split(\"Best Time: \"))-1]\n",
    "    data_list.append(data)"
   ]
  },
  {
   "cell_type": "code",
   "execution_count": 13,
   "id": "f53128da-19af-4f51-9fe7-532f79c25f53",
   "metadata": {},
   "outputs": [],
   "source": [
    "result = pd.DataFrame(data_list,columns = ['p_name','p_rating','rank','tourist_attractions','location','description','known_for','best_time'])\n"
   ]
  },
  {
   "cell_type": "code",
   "execution_count": 55,
   "id": "2f85d21a-b707-4be5-a68a-e6de4cddcc0b",
   "metadata": {},
   "outputs": [
    {
     "data": {
      "text/html": [
       "<div>\n",
       "<style scoped>\n",
       "    .dataframe tbody tr th:only-of-type {\n",
       "        vertical-align: middle;\n",
       "    }\n",
       "\n",
       "    .dataframe tbody tr th {\n",
       "        vertical-align: top;\n",
       "    }\n",
       "\n",
       "    .dataframe thead th {\n",
       "        text-align: right;\n",
       "    }\n",
       "</style>\n",
       "<table border=\"1\" class=\"dataframe\">\n",
       "  <thead>\n",
       "    <tr style=\"text-align: right;\">\n",
       "      <th></th>\n",
       "      <th>p_name</th>\n",
       "      <th>p_rating</th>\n",
       "      <th>rank</th>\n",
       "      <th>tourist_attractions</th>\n",
       "      <th>location</th>\n",
       "      <th>description</th>\n",
       "      <th>known_for</th>\n",
       "      <th>best_time</th>\n",
       "    </tr>\n",
       "  </thead>\n",
       "  <tbody>\n",
       "    <tr>\n",
       "      <th>0</th>\n",
       "      <td>Gulmarg</td>\n",
       "      <td>4.4/5</td>\n",
       "      <td>1 out of 100</td>\n",
       "      <td>29</td>\n",
       "      <td>Jammu and Kashmir</td>\n",
       "      <td>Situated at an altitude of 2730 m above sea le...</td>\n",
       "      <td>[Gulmarg Gondola, Alpather Lake, Apharwat Peak]</td>\n",
       "      <td>October to June</td>\n",
       "    </tr>\n",
       "    <tr>\n",
       "      <th>1</th>\n",
       "      <td>Munnar</td>\n",
       "      <td>4.2/5</td>\n",
       "      <td>2 out of 100</td>\n",
       "      <td>54</td>\n",
       "      <td>Kerala</td>\n",
       "      <td>Famous for the tea estates, greenery, winding ...</td>\n",
       "      <td>[Mattupetty Dam, Kolukkumalai Tea Estate, Rose...</td>\n",
       "      <td>September to May</td>\n",
       "    </tr>\n",
       "    <tr>\n",
       "      <th>2</th>\n",
       "      <td>Gangtok</td>\n",
       "      <td>4.6/5</td>\n",
       "      <td>3 out of 100</td>\n",
       "      <td>34</td>\n",
       "      <td>Sikkim</td>\n",
       "      <td>Incredibly alluring, pleasantly boisterous and...</td>\n",
       "      <td>[Nathula Pass, MG Marg, Rumtek Monastery]</td>\n",
       "      <td>Throughout the year</td>\n",
       "    </tr>\n",
       "    <tr>\n",
       "      <th>3</th>\n",
       "      <td>Manali</td>\n",
       "      <td>4.8/5</td>\n",
       "      <td>4 out of 100</td>\n",
       "      <td>53</td>\n",
       "      <td>Himachal Pradesh</td>\n",
       "      <td>With spectacular valleys, breathtaking views, ...</td>\n",
       "      <td>[Solang Valley, Hadimba Devi Temple, Manali Ma...</td>\n",
       "      <td>October to June</td>\n",
       "    </tr>\n",
       "    <tr>\n",
       "      <th>4</th>\n",
       "      <td>Srinagar</td>\n",
       "      <td>4.2/5</td>\n",
       "      <td>5 out of 100</td>\n",
       "      <td>59</td>\n",
       "      <td>Jammu and Kashmir</td>\n",
       "      <td>Famously known as 'Heaven on Earth, Srinagar i...</td>\n",
       "      <td>[Dal Lake, Indira Gandhi Memorial Tulip Garden...</td>\n",
       "      <td>April to October</td>\n",
       "    </tr>\n",
       "  </tbody>\n",
       "</table>\n",
       "</div>"
      ],
      "text/plain": [
       "     p_name p_rating            rank tourist_attractions           location  \\\n",
       "0   Gulmarg    4.4/5  1 out of 100                    29  Jammu and Kashmir   \n",
       "1    Munnar    4.2/5  2 out of 100                    54             Kerala   \n",
       "2   Gangtok    4.6/5  3 out of 100                    34             Sikkim   \n",
       "3    Manali    4.8/5  4 out of 100                    53   Himachal Pradesh   \n",
       "4  Srinagar    4.2/5  5 out of 100                    59  Jammu and Kashmir   \n",
       "\n",
       "                                         description  \\\n",
       "0  Situated at an altitude of 2730 m above sea le...   \n",
       "1  Famous for the tea estates, greenery, winding ...   \n",
       "2  Incredibly alluring, pleasantly boisterous and...   \n",
       "3  With spectacular valleys, breathtaking views, ...   \n",
       "4  Famously known as 'Heaven on Earth, Srinagar i...   \n",
       "\n",
       "                                           known_for              best_time  \n",
       "0    [Gulmarg Gondola, Alpather Lake, Apharwat Peak]       October to June   \n",
       "1  [Mattupetty Dam, Kolukkumalai Tea Estate, Rose...      September to May   \n",
       "2          [Nathula Pass, MG Marg, Rumtek Monastery]   Throughout the year   \n",
       "3  [Solang Valley, Hadimba Devi Temple, Manali Ma...       October to June   \n",
       "4  [Dal Lake, Indira Gandhi Memorial Tulip Garden...      April to October   "
      ]
     },
     "execution_count": 55,
     "metadata": {},
     "output_type": "execute_result"
    }
   ],
   "source": [
    "result.head(5)"
   ]
  },
  {
   "cell_type": "code",
   "execution_count": 53,
   "id": "6823fab2-353c-4209-97cb-d74f0be16794",
   "metadata": {},
   "outputs": [
    {
     "name": "stdout",
     "output_type": "stream",
     "text": [
      "<class 'pandas.core.frame.DataFrame'>\n",
      "RangeIndex: 42 entries, 0 to 41\n",
      "Data columns (total 8 columns):\n",
      " #   Column               Non-Null Count  Dtype \n",
      "---  ------               --------------  ----- \n",
      " 0   p_name               42 non-null     object\n",
      " 1   p_rating             42 non-null     object\n",
      " 2   rank                 42 non-null     object\n",
      " 3   tourist_attractions  42 non-null     object\n",
      " 4   location             42 non-null     object\n",
      " 5   description          42 non-null     object\n",
      " 6   known_for            40 non-null     object\n",
      " 7   best_time            42 non-null     object\n",
      "dtypes: object(8)\n",
      "memory usage: 2.8+ KB\n"
     ]
    }
   ],
   "source": [
    "result.info()"
   ]
  },
  {
   "cell_type": "code",
   "execution_count": 51,
   "id": "6ac953ac-8560-4a20-992f-85c6749a8dc1",
   "metadata": {},
   "outputs": [
    {
     "name": "stdout",
     "output_type": "stream",
     "text": [
      "Stored the Results to CSV file\n"
     ]
    }
   ],
   "source": [
    "parent_dir = os.getcwd()\n",
    "result.to_csv(os.path.join(parent_dir,'tourist_places.csv'),index=False)\n",
    "print('Stored the Results to CSV file')"
   ]
  }
 ],
 "metadata": {
  "kernelspec": {
   "display_name": "Python [conda env:base] *",
   "language": "python",
   "name": "conda-base-py"
  },
  "language_info": {
   "codemirror_mode": {
    "name": "ipython",
    "version": 3
   },
   "file_extension": ".py",
   "mimetype": "text/x-python",
   "name": "python",
   "nbconvert_exporter": "python",
   "pygments_lexer": "ipython3",
   "version": "3.12.7"
  }
 },
 "nbformat": 4,
 "nbformat_minor": 5
}
